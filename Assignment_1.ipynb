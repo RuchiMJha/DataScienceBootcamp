{
  "nbformat": 4,
  "nbformat_minor": 0,
  "metadata": {
    "colab": {
      "provenance": []
    },
    "kernelspec": {
      "name": "python3",
      "display_name": "Python 3"
    },
    "language_info": {
      "name": "python"
    }
  },
  "cells": [
    {
      "cell_type": "markdown",
      "source": [
        "**Data Science Bootcamp Homework 1**\n",
        "\n",
        "**Ruchi Jha**"
      ],
      "metadata": {
        "id": "n0C7vUZ347qI"
      }
    },
    {
      "cell_type": "markdown",
      "source": [
        "**Question 1-**\n",
        "\n",
        "Display Fibonacci Series upto 10 terms"
      ],
      "metadata": {
        "id": "hsiIKcc_48WL"
      }
    },
    {
      "cell_type": "code",
      "execution_count": 3,
      "metadata": {
        "colab": {
          "base_uri": "https://localhost:8080/"
        },
        "id": "CRn3IFAowNGk",
        "outputId": "1ad1b5c8-3e93-4ea1-ff5c-3fee228ce8e2"
      },
      "outputs": [
        {
          "output_type": "execute_result",
          "data": {
            "text/plain": [
              "[0, 1, 1, 2, 3, 5, 8, 13, 21, 34]"
            ]
          },
          "metadata": {},
          "execution_count": 3
        }
      ],
      "source": [
        "def fibonacci_sequence(n):\n",
        "\n",
        "    if n <= 0:\n",
        "        return []\n",
        "    elif n == 1:\n",
        "        return [0]\n",
        "    else:\n",
        "        list_fib = [0, 1]\n",
        "        while len(list_fib) < n:\n",
        "            next_fib = list_fib[-1] + list_fib[-2]\n",
        "            list_fib.append(next_fib)\n",
        "        return list_fib\n",
        "\n",
        "# Example usage\n",
        "fib_series = fibonacci_sequence(10)\n",
        "fib_series\n"
      ]
    },
    {
      "cell_type": "markdown",
      "source": [
        "**Question 2-**\n",
        "\n",
        "Display numbers at the odd indices of a list"
      ],
      "metadata": {
        "id": "OcwE9P3w5BeD"
      }
    },
    {
      "cell_type": "code",
      "source": [
        "def display_odd_indices(data):\n",
        "    for i in range(1, len(data), 2):\n",
        "        print(data[i])\n",
        "\n",
        "user_input = input(\"Enter a list of numbers (space-separated): \")\n",
        "try:\n",
        "    numbers = [int(x) for x in user_input.split()]\n",
        "    display_odd_indices(numbers)\n",
        "except ValueError:\n",
        "    print(\"Invalid input. Please enter numbers separated by spaces.\")\n"
      ],
      "metadata": {
        "colab": {
          "base_uri": "https://localhost:8080/"
        },
        "id": "7Umw3XQ82iWg",
        "outputId": "0b18e3fa-6a0b-4734-890f-1525f31c7d74"
      },
      "execution_count": 65,
      "outputs": [
        {
          "output_type": "stream",
          "name": "stdout",
          "text": [
            "Enter a list of numbers (space-separated): 0 1 2 3 4 5 6 7 8 9\n",
            "1\n",
            "3\n",
            "5\n",
            "7\n",
            "9\n"
          ]
        }
      ]
    },
    {
      "cell_type": "markdown",
      "source": [
        "**Question 3-**\n",
        "\n",
        "string = \"\"\"\n",
        "I have provided this text to provide tips on creating interesting paragraphs.\n",
        "First, start with a clear topic sentence that introduces the main idea.\n",
        "Then, support the topic sentence with specific details, examples, and evidence.\n",
        "Vary the sentence length and structure to keep the reader engaged.\n",
        "Finally, end with a strong concluding sentence that summarizes the main points.\n",
        "Remember, practice makes perfect!\n",
        "\"\"\"\n",
        "Your task is to count the number of different words in this text"
      ],
      "metadata": {
        "id": "OHPODI7j8CNs"
      }
    },
    {
      "cell_type": "code",
      "source": [
        "string = \"\"\"\n",
        "I have provided this text to provide tips on creating interesting paragraphs.\n",
        "First, start with a clear topic sentence that introduces the main idea.\n",
        "Then, support the topic sentence with specific details, examples, and evidence.\n",
        "Vary the sentence length and structure to keep the reader engaged.\n",
        "Finally, end with a strong concluding sentence that summarizes the main points.\n",
        "Remember, practice makes perfect!\n",
        "\"\"\"\n",
        "\n",
        "import re\n",
        "words = re.findall(r'\\b\\w+\\b', string.lower())\n",
        "\n",
        "# Count the number of different words\n",
        "unique_words = set(words)\n",
        "word_counts = {}\n",
        "for word in words:\n",
        "    if word in word_counts:\n",
        "        word_counts[word]+=1\n",
        "    else:\n",
        "        word_counts[word] = 1\n",
        "\n",
        "#Print the unique words and their count\n",
        "for word, count in word_counts.items():\n",
        "    print(f\"{word}: {count}\")\n",
        "\n",
        "print(f\"\\nThe number of different words is: {len(unique_words)}\")"
      ],
      "metadata": {
        "colab": {
          "base_uri": "https://localhost:8080/"
        },
        "id": "5R9cQkmm61H3",
        "outputId": "cd1ed11d-1815-4ae4-92af-c32bd2f8500c"
      },
      "execution_count": 11,
      "outputs": [
        {
          "output_type": "stream",
          "name": "stdout",
          "text": [
            "i: 1\n",
            "have: 1\n",
            "provided: 1\n",
            "this: 1\n",
            "text: 1\n",
            "to: 2\n",
            "provide: 1\n",
            "tips: 1\n",
            "on: 1\n",
            "creating: 1\n",
            "interesting: 1\n",
            "paragraphs: 1\n",
            "first: 1\n",
            "start: 1\n",
            "with: 3\n",
            "a: 2\n",
            "clear: 1\n",
            "topic: 2\n",
            "sentence: 4\n",
            "that: 2\n",
            "introduces: 1\n",
            "the: 5\n",
            "main: 2\n",
            "idea: 1\n",
            "then: 1\n",
            "support: 1\n",
            "specific: 1\n",
            "details: 1\n",
            "examples: 1\n",
            "and: 2\n",
            "evidence: 1\n",
            "vary: 1\n",
            "length: 1\n",
            "structure: 1\n",
            "keep: 1\n",
            "reader: 1\n",
            "engaged: 1\n",
            "finally: 1\n",
            "end: 1\n",
            "strong: 1\n",
            "concluding: 1\n",
            "summarizes: 1\n",
            "points: 1\n",
            "remember: 1\n",
            "practice: 1\n",
            "makes: 1\n",
            "perfect: 1\n",
            "\n",
            "The number of different words is: 47\n"
          ]
        }
      ]
    },
    {
      "cell_type": "markdown",
      "source": [
        "**Question 4-**\n",
        "\n",
        "Write a function count_vowels(word) that takes a word as an argument and returns the number of vowels in the word"
      ],
      "metadata": {
        "id": "fl_1JZWL78OH"
      }
    },
    {
      "cell_type": "code",
      "source": [
        "import re\n",
        "\n",
        "def count_vowels(word):\n",
        "    vowels = \"aeiouAEIOU\"\n",
        "    vowel_count = 0\n",
        "    for char in word:\n",
        "        if char in vowels:\n",
        "            vowel_count += 1\n",
        "    return vowel_count\n",
        "\n",
        "# Get user input\n",
        "user_word = input(\"Enter a word: \")\n",
        "\n",
        "# Count vowels and print the result\n",
        "num_vowels = count_vowels(user_word)\n",
        "print(f\"The number of vowels in '{user_word}' is: {num_vowels}\")"
      ],
      "metadata": {
        "colab": {
          "base_uri": "https://localhost:8080/"
        },
        "id": "p1IRpcaA7aO3",
        "outputId": "976448b4-b31a-416c-cd31-6aa3df613561"
      },
      "execution_count": 16,
      "outputs": [
        {
          "output_type": "stream",
          "name": "stdout",
          "text": [
            "Enter a word: science\n",
            "The number of vowels in 'science' is: 3\n"
          ]
        }
      ]
    },
    {
      "cell_type": "markdown",
      "source": [
        "**Question 5-⁠**\n",
        "\n",
        "Iterate through the following list of animals and print each one in all caps.\n",
        "animals=['tiger', 'elephant', 'monkey', 'zebra', 'panther']"
      ],
      "metadata": {
        "id": "10xWS5EW7ynR"
      }
    },
    {
      "cell_type": "code",
      "source": [
        "animals=['tiger', 'elephant', 'monkey', 'zebra', 'panther']\n",
        "for animal in animals:\n",
        "  print(animal.upper())\n"
      ],
      "metadata": {
        "colab": {
          "base_uri": "https://localhost:8080/"
        },
        "id": "SyxyPAsk7sAD",
        "outputId": "3936c3f0-8a60-48c4-e0bc-b948e131028e"
      },
      "execution_count": 18,
      "outputs": [
        {
          "output_type": "stream",
          "name": "stdout",
          "text": [
            "TIGER\n",
            "ELEPHANT\n",
            "MONKEY\n",
            "ZEBRA\n",
            "PANTHER\n"
          ]
        }
      ]
    },
    {
      "cell_type": "markdown",
      "source": [
        "**Question 6-**\n",
        "\n",
        "Write a program that iterates from 1 to 20, printing each number and whether it's odd or even."
      ],
      "metadata": {
        "id": "QM9gma3h8N8u"
      }
    },
    {
      "cell_type": "code",
      "source": [
        "for i in range(1, 21):\n",
        "    if i % 2 == 0:\n",
        "        print(f\"{i} is even\")\n",
        "    else:\n",
        "        print(f\"{i} is odd\")\n"
      ],
      "metadata": {
        "colab": {
          "base_uri": "https://localhost:8080/"
        },
        "id": "XCbfWNB38aS0",
        "outputId": "e5e9846a-5d4f-46b0-8e83-c8425c583b0c"
      },
      "execution_count": 20,
      "outputs": [
        {
          "output_type": "stream",
          "name": "stdout",
          "text": [
            "1 is odd\n",
            "2 is even\n",
            "3 is odd\n",
            "4 is even\n",
            "5 is odd\n",
            "6 is even\n",
            "7 is odd\n",
            "8 is even\n",
            "9 is odd\n",
            "10 is even\n",
            "11 is odd\n",
            "12 is even\n",
            "13 is odd\n",
            "14 is even\n",
            "15 is odd\n",
            "16 is even\n",
            "17 is odd\n",
            "18 is even\n",
            "19 is odd\n",
            "20 is even\n"
          ]
        }
      ]
    },
    {
      "cell_type": "markdown",
      "source": [
        "**Question 7-**\n",
        "\n",
        "Write a function sum_of_integers(a, b) that takes two integers as input from the user and returns their sum."
      ],
      "metadata": {
        "id": "GOmXvEaR8juv"
      }
    },
    {
      "cell_type": "code",
      "source": [
        "def sum_of_integers(a, b):\n",
        "    try:\n",
        "        a = int(a)\n",
        "        b = int(b)\n",
        "        return a + b\n",
        "    except ValueError:\n",
        "        return \"Invalid input. Please enter integers.\"\n",
        "\n",
        "# Get user input\n",
        "num1 = input(\"Enter the first integer: \")\n",
        "num2 = input(\"Enter the second integer: \")\n",
        "\n",
        "# Calculate and print the sum\n",
        "result = sum_of_integers(num1, num2)\n",
        "print(f\"The sum of {num1} and {num2} is: {result}\")\n"
      ],
      "metadata": {
        "colab": {
          "base_uri": "https://localhost:8080/"
        },
        "id": "uaRtuMXR8siP",
        "outputId": "88142f2b-d819-4c90-b029-ed4cc08029db"
      },
      "execution_count": 66,
      "outputs": [
        {
          "output_type": "stream",
          "name": "stdout",
          "text": [
            "Enter the first integer: 5\n",
            "Enter the second integer: 7\n",
            "The sum of 5 and 7 is: 12\n"
          ]
        }
      ]
    },
    {
      "cell_type": "markdown",
      "source": [
        "**Additional Challenge-**"
      ],
      "metadata": {
        "id": "R4Sbq0K99dNb"
      }
    },
    {
      "cell_type": "code",
      "source": [
        "books = [\n",
        "    {\n",
        "        \"title\": \"The Great Gatsby\",\n",
        "        \"author\": \"F. Scott Fitzgerald\",\n",
        "        \"genre\": \"Fiction\",\n",
        "        \"rating\": 4.2\n",
        "    },\n",
        "    {\n",
        "        \"title\": \"To Kill a Mockingbird\",\n",
        "        \"author\": \"Harper Lee\",\n",
        "        \"genre\": \"Classic\",\n",
        "        \"rating\": 4.5\n",
        "    },\n",
        "    {\n",
        "        \"title\": \"1984\",\n",
        "        \"author\": \"George Orwell\",\n",
        "        \"genre\": \"Dystopian\",\n",
        "        \"rating\": 4.8\n",
        "    },\n",
        "    {\n",
        "        \"title\": \"Pride and Prejudice\",\n",
        "        \"author\": \"Jane Austen\",\n",
        "        \"genre\": \"Romance\",\n",
        "        \"rating\": 4.7\n",
        "    },\n",
        "    {\n",
        "        \"title\": \"Harry Potter and the Sorcerer's Stone\",\n",
        "        \"author\": \"J.K. Rowling\",\n",
        "        \"genre\": \"Fantasy\",\n",
        "        \"rating\": 4.9\n",
        "    },\n",
        "    {\n",
        "        \"title\": \"The Catcher in the Rye\",\n",
        "        \"author\": \"J.D. Salinger\",\n",
        "        \"genre\": \"Coming-of-age\",\n",
        "        \"rating\": 4.1\n",
        "    }\n",
        "]"
      ],
      "metadata": {
        "id": "qs9RQtm99fR3"
      },
      "execution_count": 25,
      "outputs": []
    },
    {
      "cell_type": "markdown",
      "source": [
        "**1.Checking Book Ratings-**\n",
        "\n",
        "Write a function check_rating(book) that takes a book dictionary and returns True if the rating is greater than 4.5, and False otherwise. Additionally, modify the function to return 'low' if the rating is less than or equal to 4.0, 'medium' if it's greater than 4.0 but less than or equal to 4.5, and 'high' if it's greater than 4.5."
      ],
      "metadata": {
        "id": "6ELMQK4GS6YP"
      }
    },
    {
      "cell_type": "code",
      "source": [
        "def check_rating(book):\n",
        "    rating = book.get(\"rating\")\n",
        "    if rating is None:\n",
        "        return \"Rating not available\"  # Handle cases where rating is missing\n",
        "\n",
        "    if rating <= 4.0:\n",
        "        return 'low'\n",
        "    elif rating <= 4.5:\n",
        "        return 'medium'\n",
        "    else:\n",
        "        return 'high'\n",
        "\n",
        "for book in books:\n",
        "    rating_level = check_rating(book)\n",
        "    print(f\"Title: {book['title']}, Rating: {book.get('rating', 'N/A')}, Rating Level: {rating_level}\")\n"
      ],
      "metadata": {
        "colab": {
          "base_uri": "https://localhost:8080/"
        },
        "id": "Cia7jGa69jOP",
        "outputId": "cf592957-a0a8-432f-eca5-adbadfade93f"
      },
      "execution_count": 62,
      "outputs": [
        {
          "output_type": "stream",
          "name": "stdout",
          "text": [
            "Title: The Great Gatsby, Rating: 4.2, Rating Level: medium\n",
            "Title: To Kill a Mockingbird, Rating: 4.5, Rating Level: medium\n",
            "Title: 1984, Rating: 4.8, Rating Level: high\n",
            "Title: Pride and Prejudice, Rating: 4.7, Rating Level: high\n",
            "Title: Harry Potter and the Sorcerer's Stone, Rating: 4.9, Rating Level: high\n",
            "Title: The Catcher in the Rye, Rating: 4.1, Rating Level: medium\n"
          ]
        }
      ]
    },
    {
      "cell_type": "markdown",
      "source": [
        "**2.Average Rating by Genre**\n",
        "\n",
        "Write a function average_rating_by_genre(books, genre) that accepts the list of books and a genre, and returns the average rating for that genre. If the genre does not exist in the list, return an appropriate message."
      ],
      "metadata": {
        "id": "4UZE2B_GTD_E"
      }
    },
    {
      "cell_type": "code",
      "source": [
        "def average_rating_by_genre(books, genre):\n",
        "    genre_ratings = []\n",
        "    for book in books:\n",
        "        if book[\"genre\"] == genre:\n",
        "            genre_ratings.append(book[\"rating\"])\n",
        "    if not genre_ratings:\n",
        "        return \"Genre not found in the list of books.\"\n",
        "    return sum(genre_ratings) / len(genre_ratings)\n",
        "\n",
        "user_genre = input(\"Enter a genre: \")\n",
        "average_rating = average_rating_by_genre(books, user_genre)\n",
        "print(f\"The average rating for {user_genre} is: {average_rating}\")\n"
      ],
      "metadata": {
        "colab": {
          "base_uri": "https://localhost:8080/"
        },
        "id": "Gy7x21otC6ih",
        "outputId": "aa9927c4-7bb5-4e5e-d3ef-08ce9d3fa810"
      },
      "execution_count": 63,
      "outputs": [
        {
          "output_type": "stream",
          "name": "stdout",
          "text": [
            "Enter a genre: Coming-of-age\n",
            "The average rating for Coming-of-age is: 4.1\n"
          ]
        }
      ]
    },
    {
      "cell_type": "markdown",
      "source": [
        "**3.Books by Author**\n",
        "\n",
        "Write a function books_by_author(books, author) that accepts the book list and an author's name, and returns a list of all the books written by that author. If the author does not exist, raise a custom error."
      ],
      "metadata": {
        "id": "POtYGU9gTNj1"
      }
    },
    {
      "cell_type": "code",
      "source": [
        "class AuthorNotFoundError(Exception):\n",
        "    pass\n",
        "\n",
        "def books_by_author(books, author):\n",
        "    author_books = []\n",
        "    for book in books:\n",
        "        if book[\"author\"] == author:\n",
        "            author_books.append(book[\"title\"])\n",
        "    if not author_books:\n",
        "        raise AuthorNotFoundError(f\"No books found for author: {author}\")\n",
        "    return author_books\n",
        "\n",
        "# Get user input for the author\n",
        "author_name = input(\"Enter the author's name: \")\n",
        "\n",
        "try:\n",
        "    # Assuming 'books' is defined as in the previous example\n",
        "    result = books_by_author(books, author_name)\n",
        "    print(result)\n",
        "except AuthorNotFoundError as e:\n",
        "    print(\"error\")\n"
      ],
      "metadata": {
        "colab": {
          "base_uri": "https://localhost:8080/"
        },
        "id": "-fxNwcvDShwf",
        "outputId": "941d0ea3-a1cc-47ec-d8bc-a63836bdf528"
      },
      "execution_count": 64,
      "outputs": [
        {
          "output_type": "stream",
          "name": "stdout",
          "text": [
            "Enter the author's name: Jane Austen\n",
            "['Pride and Prejudice']\n"
          ]
        }
      ]
    }
  ]
}